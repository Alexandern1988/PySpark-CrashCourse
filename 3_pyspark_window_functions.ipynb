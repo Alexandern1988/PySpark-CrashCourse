{
 "cells": [
  {
   "cell_type": "code",
   "execution_count": 14,
   "metadata": {},
   "outputs": [],
   "source": [
    "import findspark\n",
    "findspark.init()\n",
    "findspark.find()\n",
    "\n",
    "from pyspark.sql import SparkSession\n",
    "import pyspark.sql.functions as f\n",
    "import pyspark.sql.window as w\n",
    "import pyspark.sql.types "
   ]
  },
  {
   "cell_type": "code",
   "execution_count": 2,
   "metadata": {},
   "outputs": [],
   "source": [
    "spark = SparkSession.builder.appName('mycourse').getOrCreate()"
   ]
  },
  {
   "cell_type": "code",
   "execution_count": 15,
   "metadata": {},
   "outputs": [
    {
     "name": "stdout",
     "output_type": "stream",
     "text": [
      "+-------------------+-------------+--------------------+-------+-------+---------------+-------------+--------+--------+-----------+--------------------+--------+\n",
      "|          date_time|       userid|              domain|dlbytes|ulbytes|       clientip|     serverip| country|txn_time|http_method|          user_agent|platform|\n",
      "+-------------------+-------------+--------------------+-------+-------+---------------+-------------+--------+--------+-----------+--------------------+--------+\n",
      "|2023-10-04 11:37:11|7773153683656|    ryan-wells.co.uk| 872807| 741526|142.132.219.110|62.42.184.180| England|    2.33|      HTTPS|Mozilla/5.0 (Wind...| Android|\n",
      "|2023-10-04 12:17:07|1886351675683|         hopkins.org|  50898| 529504|  184.205.48.78|152.123.41.39|   Wales|     1.2|       HTTP|Mozilla/5.0 (Wind...| Android|\n",
      "|2023-10-02 23:25:12|1597721345356|           evans.com| 964276| 952420|  189.30.60.163|68.171.236.18|Scotland|    1.32|       HTTP|Mozilla/5.0 (Wind...|   Linux|\n",
      "|2023-10-03 09:43:11|9766845800247|           kelly.com| 212529| 811887|   13.144.79.35|63.141.80.109| England|    2.58|      HTTPS|Opera/8.54.(X11; ...| Android|\n",
      "|2023-10-01 08:16:46|1546762097287|richardson-walker...| 553626| 901428| 143.74.163.248|26.253.17.223|   Wales|    1.53|       HTTP|Mozilla/5.0 (Maci...| Windows|\n",
      "+-------------------+-------------+--------------------+-------+-------+---------------+-------------+--------+--------+-----------+--------------------+--------+\n",
      "only showing top 5 rows\n",
      "\n"
     ]
    }
   ],
   "source": [
    "#define a custom schema\n",
    "custome_schema = StructType([\n",
    "    StructField('date_time', StringType(), True),\n",
    "    StructField('userid', StringType(), True),\n",
    "    StructField('domain', StringType(), True),\n",
    "    StructField('dlbytes', IntegerType(), True),\n",
    "    StructField('ulbytes', IntegerType(), True),\n",
    "    StructField('clientip', StringType(), True),\n",
    "    StructField('serverip', StringType(), True),\n",
    "    StructField('country', StringType(), True),\n",
    "    StructField('txn_time', FloatType(), True),\n",
    "    StructField('http_method', StringType(), True),\n",
    "    StructField('user_agent', StringType(), True),\n",
    "    StructField('platform', StringType(), True)\n",
    "])\n",
    "\n",
    "\n",
    "# load the data with the custom schema\n",
    "data_path = r'C:\\Users\\alex\\Desktop\\PySpark Crash Course Learn Spark Quickly\\1 - Introduction\\2 - course-file\\course_file.csv'\n",
    "df = spark.read.csv(data_path, schema=custome_schema, header=True)\n",
    "\n",
    "# show the loaded Datafarme\n",
    "df.show(5)"
   ]
  },
  {
   "cell_type": "markdown",
   "metadata": {},
   "source": [
    "# window functions: rank, row_number, lead, lag, sum, avg"
   ]
  },
  {
   "cell_type": "code",
   "execution_count": 16,
   "metadata": {},
   "outputs": [
    {
     "name": "stdout",
     "output_type": "stream",
     "text": [
      "+-------------------+-------------+-----------------+-------+-------+--------------+---------------+-------+--------+-----------+--------------------+--------+----+\n",
      "|          date_time|       userid|           domain|dlbytes|ulbytes|      clientip|       serverip|country|txn_time|http_method|          user_agent|platform|rank|\n",
      "+-------------------+-------------+-----------------+-------+-------+--------------+---------------+-------+--------+-----------+--------------------+--------+----+\n",
      "|2023-10-04 01:21:13|3144906514401|         page.com| 999946| 769910|133.226.106.69|  43.150.184.67|  Wales|    2.73|       HTTP|Mozilla/5.0 (comp...| Windows|   1|\n",
      "|2023-10-05 14:52:07|2736616479279|      watkins.com| 999912| 181045| 192.85.230.16|134.179.193.195|  Wales|    2.31|       HTTP|Mozilla/5.0 (comp...|     Mac|   2|\n",
      "|2023-10-01 03:19:03|2236747991119|edwards-patel.com| 999910| 283407|  78.178.15.26|   132.242.86.8|  Wales|    1.92|       HTTP|Mozilla/5.0 (iPod...|     Mac|   3|\n",
      "|2023-10-01 23:03:56|4887900415183|obrien-davies.biz| 999862| 592320|14.115.162.182| 75.140.101.114|  Wales|    0.56|       HTTP|Mozilla/5.0 (Wind...|   Linux|   4|\n",
      "|2023-10-01 17:21:28|1006503238036|evans-clarke.info| 999847| 256124| 67.147.205.26| 174.149.86.105|  Wales|    1.18|      HTTPS|Mozilla/5.0 (Wind...| Windows|   5|\n",
      "+-------------------+-------------+-----------------+-------+-------+--------------+---------------+-------+--------+-----------+--------------------+--------+----+\n",
      "only showing top 5 rows\n",
      "\n"
     ]
    }
   ],
   "source": [
    "# rank\n",
    "window_spec = w.Window.partitionBy('country').orderBy(f.col('dlbytes').desc())\n",
    "df.withColumn('rank', f.rank().over(window_spec)).show(5)"
   ]
  },
  {
   "cell_type": "code",
   "execution_count": 17,
   "metadata": {},
   "outputs": [
    {
     "name": "stdout",
     "output_type": "stream",
     "text": [
      "+-------------------+-------------+----------------+-------+-------+---------------+--------------+-------+--------+-----------+--------------------+--------+----------+\n",
      "|          date_time|       userid|          domain|dlbytes|ulbytes|       clientip|      serverip|country|txn_time|http_method|          user_agent|platform|row_number|\n",
      "+-------------------+-------------+----------------+-------+-------+---------------+--------------+-------+--------+-----------+--------------------+--------+----------+\n",
      "|2023-10-01 00:00:01|9935183354270|white-murray.biz| 196289| 359714|223.212.132.129|204.235.216.11|  Wales|    1.72|       HTTP|Mozilla/5.0 (comp...|     Mac|         1|\n",
      "|2023-10-01 00:00:01|0434470039855| pritchard.co.uk| 350605| 860883|  70.236.57.196|33.243.179.115|  Wales|     0.4|       HTTP|Mozilla/5.0 (Maci...| Android|         2|\n",
      "|2023-10-01 00:00:37|0253415742384|   wheeler.co.uk| 613899|  56659| 137.71.136.215|128.248.57.164|  Wales|    0.67|      HTTPS|Mozilla/5.0 (comp...|     Mac|         3|\n",
      "|2023-10-01 00:00:53|2725911144553|       lewis.com| 427126| 527745|   124.152.0.67|  78.180.149.9|  Wales|    2.18|      HTTPS|Mozilla/5.0 (comp...|     Mac|         4|\n",
      "|2023-10-01 00:01:15|5209250274907|       mason.com| 776949| 127553|    70.80.2.225|210.37.227.198|  Wales|     0.7|      HTTPS|Mozilla/5.0 (Maci...|     iOS|         5|\n",
      "+-------------------+-------------+----------------+-------+-------+---------------+--------------+-------+--------+-----------+--------------------+--------+----------+\n",
      "only showing top 5 rows\n",
      "\n"
     ]
    }
   ],
   "source": [
    "# row_number\n",
    "window_spec = w.Window.partitionBy('country').orderBy('date_time')\n",
    "df.withColumn('row_number', f.row_number().over(window_spec)).show(5)"
   ]
  },
  {
   "cell_type": "code",
   "execution_count": 18,
   "metadata": {},
   "outputs": [
    {
     "name": "stdout",
     "output_type": "stream",
     "text": [
      "+-------------------+-------------+----------------+-------+-------+---------------+--------------+--------+--------+-----------+--------------------+--------+--------------+\n",
      "|          date_time|       userid|          domain|dlbytes|ulbytes|       clientip|      serverip| country|txn_time|http_method|          user_agent|platform|previous_bytes|\n",
      "+-------------------+-------------+----------------+-------+-------+---------------+--------------+--------+--------+-----------+--------------------+--------+--------------+\n",
      "|2023-10-01 00:00:01|6242602789270|  ellis-hale.com|  60865| 378320|    65.219.1.13|     2.4.27.23| Ireland|    1.89|      HTTPS|Opera/9.61.(X11; ...|   Linux|          NULL|\n",
      "|2023-10-01 00:00:01|9935183354270|white-murray.biz| 196289| 359714|223.212.132.129|204.235.216.11|   Wales|    1.72|       HTTP|Mozilla/5.0 (comp...|     Mac|         60865|\n",
      "|2023-10-01 00:00:01|0434470039855| pritchard.co.uk| 350605| 860883|  70.236.57.196|33.243.179.115|   Wales|     0.4|       HTTP|Mozilla/5.0 (Maci...| Android|        196289|\n",
      "|2023-10-01 00:00:04|2729688430693|jones-slater.com| 210027| 225830|  196.137.2.236|  105.44.8.190|Scotland|    2.29|      HTTPS|Mozilla/5.0 (iPod...|     Mac|        350605|\n",
      "|2023-10-01 00:00:26|0013344619567|      rogers.com| 523144| 629889|   81.57.118.57|181.88.216.240| Ireland|    2.08|       HTTP|Mozilla/5.0 (iPod...|   Linux|        210027|\n",
      "+-------------------+-------------+----------------+-------+-------+---------------+--------------+--------+--------+-----------+--------------------+--------+--------------+\n",
      "only showing top 5 rows\n",
      "\n"
     ]
    }
   ],
   "source": [
    "# lag\n",
    "window_spec = w.Window.partitionBy().orderBy('date_time')\n",
    "df.withColumn('previous_bytes', f.lag('dlbytes').over(window_spec)).show(5)"
   ]
  },
  {
   "cell_type": "code",
   "execution_count": 21,
   "metadata": {},
   "outputs": [
    {
     "name": "stdout",
     "output_type": "stream",
     "text": [
      "+-------------------+-------------+----------------+-------+-------+---------------+--------------+--------+--------+-----------+--------------------+--------+----------+\n",
      "|          date_time|       userid|          domain|dlbytes|ulbytes|       clientip|      serverip| country|txn_time|http_method|          user_agent|platform|next_bytes|\n",
      "+-------------------+-------------+----------------+-------+-------+---------------+--------------+--------+--------+-----------+--------------------+--------+----------+\n",
      "|2023-10-01 00:00:01|6242602789270|  ellis-hale.com|  60865| 378320|    65.219.1.13|     2.4.27.23| Ireland|    1.89|      HTTPS|Opera/9.61.(X11; ...|   Linux|    196289|\n",
      "|2023-10-01 00:00:01|9935183354270|white-murray.biz| 196289| 359714|223.212.132.129|204.235.216.11|   Wales|    1.72|       HTTP|Mozilla/5.0 (comp...|     Mac|    350605|\n",
      "|2023-10-01 00:00:01|0434470039855| pritchard.co.uk| 350605| 860883|  70.236.57.196|33.243.179.115|   Wales|     0.4|       HTTP|Mozilla/5.0 (Maci...| Android|    210027|\n",
      "|2023-10-01 00:00:04|2729688430693|jones-slater.com| 210027| 225830|  196.137.2.236|  105.44.8.190|Scotland|    2.29|      HTTPS|Mozilla/5.0 (iPod...|     Mac|    523144|\n",
      "|2023-10-01 00:00:26|0013344619567|      rogers.com| 523144| 629889|   81.57.118.57|181.88.216.240| Ireland|    2.08|       HTTP|Mozilla/5.0 (iPod...|   Linux|     26727|\n",
      "+-------------------+-------------+----------------+-------+-------+---------------+--------------+--------+--------+-----------+--------------------+--------+----------+\n",
      "only showing top 5 rows\n",
      "\n"
     ]
    }
   ],
   "source": [
    "# lead\n",
    "window_spec = w.Window.partitionBy().orderBy('date_time')\n",
    "df.withColumn('next_bytes', f.lead('dlbytes').over(window_spec)).show(5)"
   ]
  },
  {
   "cell_type": "code",
   "execution_count": 25,
   "metadata": {},
   "outputs": [
    {
     "name": "stdout",
     "output_type": "stream",
     "text": [
      "+-------------------+-------------+-------------+-------+-------+--------------+---------------+--------+--------+-----------+--------------------+--------+------------+\n",
      "|          date_time|       userid|       domain|dlbytes|ulbytes|      clientip|       serverip| country|txn_time|http_method|          user_agent|platform|sum_function|\n",
      "+-------------------+-------------+-------------+-------+-------+--------------+---------------+--------+--------+-----------+--------------------+--------+------------+\n",
      "|2023-10-01 07:30:22|0000361494373|   kirby.info| 247353| 584248|115.60.168.113| 106.60.246.177| Ireland|    1.73|       HTTP|Mozilla/5.0 (X11;...| Windows|      483973|\n",
      "|2023-10-03 13:55:48|0000361494373|   kirby.info| 236620| 423021|115.60.168.113| 106.60.246.177| England|    2.23|       HTTP|Mozilla/5.0 (X11;...| Windows|      483973|\n",
      "|2023-10-02 10:45:43|0003860685467|   barton.com| 701021| 795588| 99.233.235.32|102.123.129.225| England|    2.02|       HTTP|Mozilla/5.0 (comp...| Windows|      701021|\n",
      "|2023-10-02 06:26:16|0004053915412|robertson.com| 216521|  52914|  32.66.83.226|  97.127.241.23| Ireland|    0.66|      HTTPS|Mozilla/5.0 (Wind...|     iOS|      674087|\n",
      "|2023-10-01 14:22:36|0004053915412|robertson.com| 457566| 331184|  32.66.83.226|  97.127.241.23|Scotland|    0.88|      HTTPS|Mozilla/5.0 (Wind...| Windows|      674087|\n",
      "+-------------------+-------------+-------------+-------+-------+--------------+---------------+--------+--------+-----------+--------------------+--------+------------+\n",
      "only showing top 5 rows\n",
      "\n"
     ]
    }
   ],
   "source": [
    "# sum over\n",
    "window_spec = w.Window.partitionBy('userid')\n",
    "df.withColumn('sum_function', f.sum('dlbytes').over(window_spec)).show(5)"
   ]
  },
  {
   "cell_type": "code",
   "execution_count": 26,
   "metadata": {},
   "outputs": [
    {
     "name": "stdout",
     "output_type": "stream",
     "text": [
      "+-------------------+-------------+--------------------+-------+-------+--------------+--------------+-------+--------+-----------+--------------------+--------+------------+\n",
      "|          date_time|       userid|              domain|dlbytes|ulbytes|      clientip|      serverip|country|txn_time|http_method|          user_agent|platform|avg_function|\n",
      "+-------------------+-------------+--------------------+-------+-------+--------------+--------------+-------+--------+-----------+--------------------+--------+------------+\n",
      "|2023-10-05 12:11:28|3111478378469|abbott-chamberlai...| 835522| 512952| 209.44.242.39|172.94.129.111|England|    1.85|      HTTPS|Mozilla/5.0 (Wind...| Windows|    450770.0|\n",
      "|2023-10-03 04:39:29|3111478378469|abbott-chamberlai...|  66018| 384673| 209.44.242.39|172.94.129.111|Ireland|    2.91|       HTTP|Mozilla/5.0 (Wind...| Windows|    450770.0|\n",
      "|2023-10-02 23:43:07|3488034274431| abbott-mitchell.com| 175616| 396258| 63.111.97.111|191.135.117.14|Ireland|    2.84|      HTTPS|Mozilla/5.0 (iPod...|   Linux|    175616.0|\n",
      "|2023-10-02 08:20:20|2765945342037|     adams-ahmed.com| 616224| 768126|10.161.122.159|  159.83.81.10|Ireland|     2.3|      HTTPS|Mozilla/5.0 (comp...|   Linux|    616224.0|\n",
      "|2023-10-01 09:41:10|0886728515168|      adams-bell.biz| 970189| 882384| 67.107.151.39| 121.82.48.114|England|     2.7|       HTTP|Mozilla/5.0 (comp...| Android|    970189.0|\n",
      "+-------------------+-------------+--------------------+-------+-------+--------------+--------------+-------+--------+-----------+--------------------+--------+------------+\n",
      "only showing top 5 rows\n",
      "\n"
     ]
    }
   ],
   "source": [
    "# avg over\n",
    "window_spec = w.Window.partitionBy('domain')\n",
    "df.withColumn('avg_function', f.avg('dlbytes').over(window_spec)).show(5)"
   ]
  }
 ],
 "metadata": {
  "kernelspec": {
   "display_name": "spark_env_3_11",
   "language": "python",
   "name": "python3"
  },
  "language_info": {
   "codemirror_mode": {
    "name": "ipython",
    "version": 3
   },
   "file_extension": ".py",
   "mimetype": "text/x-python",
   "name": "python",
   "nbconvert_exporter": "python",
   "pygments_lexer": "ipython3",
   "version": "3.11.6"
  }
 },
 "nbformat": 4,
 "nbformat_minor": 2
}
