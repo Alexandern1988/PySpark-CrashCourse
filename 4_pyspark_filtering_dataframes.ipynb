{
 "cells": [
  {
   "cell_type": "code",
   "execution_count": 1,
   "metadata": {},
   "outputs": [],
   "source": [
    "import findspark\n",
    "findspark.init()\n",
    "findspark.find()\n",
    "\n",
    "from pyspark.sql import SparkSession\n",
    "import pyspark.sql.functions as f\n",
    "import pyspark.sql.window as w\n",
    "from pyspark.sql.types import *"
   ]
  },
  {
   "cell_type": "code",
   "execution_count": 2,
   "metadata": {},
   "outputs": [],
   "source": [
    "spark = SparkSession.builder.appName('mycourse').getOrCreate()"
   ]
  },
  {
   "cell_type": "code",
   "execution_count": 3,
   "metadata": {},
   "outputs": [
    {
     "name": "stdout",
     "output_type": "stream",
     "text": [
      "+-------------------+-------------+--------------------+-------+-------+---------------+-------------+--------+--------+-----------+--------------------+--------+\n",
      "|          date_time|       userid|              domain|dlbytes|ulbytes|       clientip|     serverip| country|txn_time|http_method|          user_agent|platform|\n",
      "+-------------------+-------------+--------------------+-------+-------+---------------+-------------+--------+--------+-----------+--------------------+--------+\n",
      "|2023-10-04 11:37:11|7773153683656|    ryan-wells.co.uk| 872807| 741526|142.132.219.110|62.42.184.180| England|    2.33|      HTTPS|Mozilla/5.0 (Wind...| Android|\n",
      "|2023-10-04 12:17:07|1886351675683|         hopkins.org|  50898| 529504|  184.205.48.78|152.123.41.39|   Wales|     1.2|       HTTP|Mozilla/5.0 (Wind...| Android|\n",
      "|2023-10-02 23:25:12|1597721345356|           evans.com| 964276| 952420|  189.30.60.163|68.171.236.18|Scotland|    1.32|       HTTP|Mozilla/5.0 (Wind...|   Linux|\n",
      "|2023-10-03 09:43:11|9766845800247|           kelly.com| 212529| 811887|   13.144.79.35|63.141.80.109| England|    2.58|      HTTPS|Opera/8.54.(X11; ...| Android|\n",
      "|2023-10-01 08:16:46|1546762097287|richardson-walker...| 553626| 901428| 143.74.163.248|26.253.17.223|   Wales|    1.53|       HTTP|Mozilla/5.0 (Maci...| Windows|\n",
      "+-------------------+-------------+--------------------+-------+-------+---------------+-------------+--------+--------+-----------+--------------------+--------+\n",
      "only showing top 5 rows\n",
      "\n"
     ]
    }
   ],
   "source": [
    "#define a custom schema\n",
    "custome_schema = StructType([\n",
    "    StructField('date_time', StringType(), True),\n",
    "    StructField('userid', StringType(), True),\n",
    "    StructField('domain', StringType(), True),\n",
    "    StructField('dlbytes', IntegerType(), True),\n",
    "    StructField('ulbytes', IntegerType(), True),\n",
    "    StructField('clientip', StringType(), True),\n",
    "    StructField('serverip', StringType(), True),\n",
    "    StructField('country', StringType(), True),\n",
    "    StructField('txn_time', FloatType(), True),\n",
    "    StructField('http_method', StringType(), True),\n",
    "    StructField('user_agent', StringType(), True),\n",
    "    StructField('platform', StringType(), True)\n",
    "])\n",
    "\n",
    "\n",
    "# load the data with the custom schema\n",
    "data_path = r'C:\\Users\\alex\\Desktop\\PySpark Crash Course Learn Spark Quickly\\1 - Introduction\\2 - course-file\\course_file.csv'\n",
    "df = spark.read.csv(data_path, schema=custome_schema, header=True)\n",
    "\n",
    "# show the loaded Datafarme\n",
    "df.show(5)"
   ]
  },
  {
   "cell_type": "code",
   "execution_count": 8,
   "metadata": {},
   "outputs": [
    {
     "name": "stdout",
     "output_type": "stream",
     "text": [
      "+-------------------+-------------+-----------+-------+-------+--------------+--------------+-------+--------+-----------+--------------------+--------+\n",
      "|          date_time|       userid|     domain|dlbytes|ulbytes|      clientip|      serverip|country|txn_time|http_method|          user_agent|platform|\n",
      "+-------------------+-------------+-----------+-------+-------+--------------+--------------+-------+--------+-----------+--------------------+--------+\n",
      "|2023-10-04 12:17:07|1886351675683|hopkins.org|  50898| 529504| 184.205.48.78| 152.123.41.39|  Wales|     1.2|       HTTP|Mozilla/5.0 (Wind...| Android|\n",
      "|2023-10-02 21:27:25|8517662001107|hopkins.org| 953556| 779944|191.186.99.253|175.253.185.17|  Wales|    2.63|       HTTP|Mozilla/5.0 (iPod...| Android|\n",
      "|2023-10-04 08:17:21|1886351675683|hopkins.org| 614136| 800711| 184.205.48.78| 152.123.41.39|  Wales|    1.67|      HTTPS|Mozilla/5.0 (Wind...|   Linux|\n",
      "+-------------------+-------------+-----------+-------+-------+--------------+--------------+-------+--------+-----------+--------------------+--------+\n",
      "\n"
     ]
    }
   ],
   "source": [
    "df.filter((df['country'] == 'Wales') & (df['domain'] == 'hopkins.org')).show(5)"
   ]
  },
  {
   "cell_type": "code",
   "execution_count": 11,
   "metadata": {},
   "outputs": [
    {
     "name": "stdout",
     "output_type": "stream",
     "text": [
      "+-------------------+-------------+-----------+-------+-------+--------------+--------------+--------+--------+-----------+--------------------+--------+\n",
      "|          date_time|       userid|     domain|dlbytes|ulbytes|      clientip|      serverip| country|txn_time|http_method|          user_agent|platform|\n",
      "+-------------------+-------------+-----------+-------+-------+--------------+--------------+--------+--------+-----------+--------------------+--------+\n",
      "|2023-10-03 21:37:50|0712794005320|hopkins.org| 994213| 624035|  77.161.80.58| 11.235.43.205| Ireland|     2.9|      HTTPS|Mozilla/5.0 (Maci...| Android|\n",
      "|2023-10-02 12:57:51|0172878252447|hopkins.org| 777168| 271098|  85.7.192.180|113.66.143.204|Scotland|    2.85|      HTTPS|Mozilla/5.0 (Maci...|     iOS|\n",
      "|2023-10-03 20:33:59|0712794005320|hopkins.org| 627746| 960874|  77.161.80.58| 11.235.43.205|Scotland|    2.23|      HTTPS|Mozilla/5.0 (Maci...| Android|\n",
      "|2023-10-01 20:05:38|0172878252447|hopkins.org| 380849| 170122|  85.7.192.180|113.66.143.204| England|    0.48|      HTTPS|Mozilla/5.0 (Maci...|     iOS|\n",
      "|2023-10-05 07:08:00|8517662001107|hopkins.org| 104194| 401758|191.186.99.253|175.253.185.17| Ireland|    0.85|      HTTPS|Mozilla/5.0 (iPod...|     iOS|\n",
      "+-------------------+-------------+-----------+-------+-------+--------------+--------------+--------+--------+-----------+--------------------+--------+\n",
      "only showing top 5 rows\n",
      "\n"
     ]
    }
   ],
   "source": [
    "df.filter(~(df['country'] == 'Wales') & (df['domain'] == 'hopkins.org')).show(5)"
   ]
  },
  {
   "cell_type": "code",
   "execution_count": 12,
   "metadata": {},
   "outputs": [
    {
     "name": "stdout",
     "output_type": "stream",
     "text": [
      "+-------------------+-------------+----------------+-------+-------+---------------+-------------+--------+--------+-----------+--------------------+--------+\n",
      "|          date_time|       userid|          domain|dlbytes|ulbytes|       clientip|     serverip| country|txn_time|http_method|          user_agent|platform|\n",
      "+-------------------+-------------+----------------+-------+-------+---------------+-------------+--------+--------+-----------+--------------------+--------+\n",
      "|2023-10-04 11:37:11|7773153683656|ryan-wells.co.uk| 872807| 741526|142.132.219.110|62.42.184.180| England|    2.33|      HTTPS|Mozilla/5.0 (Wind...| Android|\n",
      "|2023-10-02 23:25:12|1597721345356|       evans.com| 964276| 952420|  189.30.60.163|68.171.236.18|Scotland|    1.32|       HTTP|Mozilla/5.0 (Wind...|   Linux|\n",
      "|2023-10-03 09:43:11|9766845800247|       kelly.com| 212529| 811887|   13.144.79.35|63.141.80.109| England|    2.58|      HTTPS|Opera/8.54.(X11; ...| Android|\n",
      "|2023-10-01 13:49:39|8949163845658|        lowe.com|  43595|  77597|  148.15.214.37|   4.33.9.229| England|    1.68|       HTTP|Mozilla/5.0 (Linu...|     Mac|\n",
      "|2023-10-02 02:22:30|8035878244556|        webb.com| 270574|  94701|  73.78.116.223|  82.69.61.25| England|    2.19|      HTTPS|Mozilla/5.0 (Wind...| Windows|\n",
      "+-------------------+-------------+----------------+-------+-------+---------------+-------------+--------+--------+-----------+--------------------+--------+\n",
      "only showing top 5 rows\n",
      "\n"
     ]
    }
   ],
   "source": [
    "countries = ['England', 'Scotland']\n",
    "df.filter(df['country'].isin(countries)).show(5)"
   ]
  },
  {
   "cell_type": "code",
   "execution_count": 13,
   "metadata": {},
   "outputs": [
    {
     "name": "stdout",
     "output_type": "stream",
     "text": [
      "+-------------------+-------------+------------------+-------+-------+--------------+---------------+--------+--------+-----------+--------------------+--------+\n",
      "|          date_time|       userid|            domain|dlbytes|ulbytes|      clientip|       serverip| country|txn_time|http_method|          user_agent|platform|\n",
      "+-------------------+-------------+------------------+-------+-------+--------------+---------------+--------+--------+-----------+--------------------+--------+\n",
      "|2023-10-02 23:25:12|1597721345356|         evans.com| 964276| 952420| 189.30.60.163|  68.171.236.18|Scotland|    1.32|       HTTP|Mozilla/5.0 (Wind...|   Linux|\n",
      "|2023-10-03 11:48:19|3400788003398|         watts.com| 342378| 715125| 142.37.27.131| 41.152.174.228|Scotland|    2.92|       HTTP|Opera/8.53.(Windo...|   Linux|\n",
      "|2023-10-02 12:45:41|7007039082075| kemp-robinson.org| 613214| 239494|80.245.249.129|198.186.190.149|Scotland|    1.78|      HTTPS|Mozilla/5.0 (X11;...|     Mac|\n",
      "|2023-10-02 13:47:58|0150443056843|          todd.com| 204941| 114006|  161.8.210.40| 208.230.61.215|Scotland|    2.69|       HTTP|Opera/9.36.(X11; ...| Android|\n",
      "|2023-10-02 16:31:19|9005687132733|pratt-stephens.net|  24832| 700290| 60.137.227.62|   5.166.88.107|Scotland|    1.21|      HTTPS|Mozilla/5.0 (Linu...| Android|\n",
      "+-------------------+-------------+------------------+-------+-------+--------------+---------------+--------+--------+-----------+--------------------+--------+\n",
      "only showing top 5 rows\n",
      "\n"
     ]
    }
   ],
   "source": [
    "# like operator in sql --> search for scotland\n",
    "df.filter(df['country'].rlike('cotland')).show(5)"
   ]
  },
  {
   "cell_type": "code",
   "execution_count": null,
   "metadata": {},
   "outputs": [],
   "source": []
  }
 ],
 "metadata": {
  "kernelspec": {
   "display_name": "spark_env_3_11",
   "language": "python",
   "name": "python3"
  },
  "language_info": {
   "codemirror_mode": {
    "name": "ipython",
    "version": 3
   },
   "file_extension": ".py",
   "mimetype": "text/x-python",
   "name": "python",
   "nbconvert_exporter": "python",
   "pygments_lexer": "ipython3",
   "version": "3.11.6"
  }
 },
 "nbformat": 4,
 "nbformat_minor": 2
}
