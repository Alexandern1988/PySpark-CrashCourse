{
 "cells": [
  {
   "cell_type": "code",
   "execution_count": 8,
   "metadata": {},
   "outputs": [],
   "source": [
    "import findspark\n",
    "findspark.init()\n",
    "findspark.find()\n",
    "\n",
    "from pyspark.sql import SparkSession\n",
    "import pyspark.sql.functions as f\n",
    "import pyspark.sql.window as w\n",
    "import pyspark.sql.types as t"
   ]
  },
  {
   "cell_type": "code",
   "execution_count": 2,
   "metadata": {},
   "outputs": [],
   "source": [
    "spark = SparkSession.builder.appName('mycourse').getOrCreate()"
   ]
  },
  {
   "cell_type": "code",
   "execution_count": 3,
   "metadata": {},
   "outputs": [
    {
     "name": "stdout",
     "output_type": "stream",
     "text": [
      "+-------------------+-------------+--------------------+-------+-------+---------------+-------------+--------+--------+-----------+--------------------+--------+\n",
      "|          date_time|       userid|              domain|dlbytes|ulbytes|       clientip|     serverip| country|txn_time|http_method|          user_agent|platform|\n",
      "+-------------------+-------------+--------------------+-------+-------+---------------+-------------+--------+--------+-----------+--------------------+--------+\n",
      "|2023-10-04 11:37:11|7773153683656|    ryan-wells.co.uk| 872807| 741526|142.132.219.110|62.42.184.180| England|    2.33|      HTTPS|Mozilla/5.0 (Wind...| Android|\n",
      "|2023-10-04 12:17:07|1886351675683|         hopkins.org|  50898| 529504|  184.205.48.78|152.123.41.39|   Wales|     1.2|       HTTP|Mozilla/5.0 (Wind...| Android|\n",
      "|2023-10-02 23:25:12|1597721345356|           evans.com| 964276| 952420|  189.30.60.163|68.171.236.18|Scotland|    1.32|       HTTP|Mozilla/5.0 (Wind...|   Linux|\n",
      "|2023-10-03 09:43:11|9766845800247|           kelly.com| 212529| 811887|   13.144.79.35|63.141.80.109| England|    2.58|      HTTPS|Opera/8.54.(X11; ...| Android|\n",
      "|2023-10-01 08:16:46|1546762097287|richardson-walker...| 553626| 901428| 143.74.163.248|26.253.17.223|   Wales|    1.53|       HTTP|Mozilla/5.0 (Maci...| Windows|\n",
      "+-------------------+-------------+--------------------+-------+-------+---------------+-------------+--------+--------+-----------+--------------------+--------+\n",
      "only showing top 5 rows\n",
      "\n"
     ]
    }
   ],
   "source": [
    "#define a custom schema\n",
    "custome_schema = t.StructType([\n",
    "    t.StructField('date_time',   t.StringType(), True),\n",
    "    t.StructField('userid',      t.StringType(), True),\n",
    "    t.StructField('domain',      t.StringType(), True),\n",
    "    t.StructField('dlbytes',     t.IntegerType(), True),\n",
    "    t.StructField('ulbytes',     t.IntegerType(), True),\n",
    "    t.StructField('clientip',    t.StringType(), True),\n",
    "    t.StructField('serverip',    t.StringType(), True),\n",
    "    t.StructField('country',     t.StringType(), True),\n",
    "    t.StructField('txn_time',    t.FloatType(), True),\n",
    "    t.StructField('http_method', t.StringType(), True),\n",
    "    t.StructField('user_agent',  t.StringType(), True),\n",
    "    t.StructField('platform',    t.StringType(), True)\n",
    "])\n",
    "\n",
    "# load the data with the custom schema\n",
    "data_path = r'C:\\Users\\alex\\Desktop\\PySpark Crash Course Learn Spark Quickly\\1 - Introduction\\2 - course-file\\course_file.csv'\n",
    "df = spark.read.csv(data_path, schema=custome_schema, header=True)\n",
    "\n",
    "# show the loaded Datafarme\n",
    "df.show(5)"
   ]
  },
  {
   "cell_type": "code",
   "execution_count": 10,
   "metadata": {},
   "outputs": [
    {
     "name": "stdout",
     "output_type": "stream",
     "text": [
      "+-------------------+-------------+--------------------+-------+-------+---------------+-------------+--------+--------+-----------+--------------------+--------+-----------+\n",
      "|          date_time|       userid|              domain|dlbytes|ulbytes|       clientip|     serverip| country|txn_time|http_method|          user_agent|platform|total_bytes|\n",
      "+-------------------+-------------+--------------------+-------+-------+---------------+-------------+--------+--------+-----------+--------------------+--------+-----------+\n",
      "|2023-10-04 11:37:11|7773153683656|    ryan-wells.co.uk| 872807| 741526|142.132.219.110|62.42.184.180| England|    2.33|      HTTPS|Mozilla/5.0 (Wind...| Android|    1614333|\n",
      "|2023-10-04 12:17:07|1886351675683|         hopkins.org|  50898| 529504|  184.205.48.78|152.123.41.39|   Wales|     1.2|       HTTP|Mozilla/5.0 (Wind...| Android|     580402|\n",
      "|2023-10-02 23:25:12|1597721345356|           evans.com| 964276| 952420|  189.30.60.163|68.171.236.18|Scotland|    1.32|       HTTP|Mozilla/5.0 (Wind...|   Linux|    1916696|\n",
      "|2023-10-03 09:43:11|9766845800247|           kelly.com| 212529| 811887|   13.144.79.35|63.141.80.109| England|    2.58|      HTTPS|Opera/8.54.(X11; ...| Android|    1024416|\n",
      "|2023-10-01 08:16:46|1546762097287|richardson-walker...| 553626| 901428| 143.74.163.248|26.253.17.223|   Wales|    1.53|       HTTP|Mozilla/5.0 (Maci...| Windows|    1455054|\n",
      "+-------------------+-------------+--------------------+-------+-------+---------------+-------------+--------+--------+-----------+--------------------+--------+-----------+\n",
      "only showing top 5 rows\n",
      "\n"
     ]
    }
   ],
   "source": [
    "# define a python function\n",
    "def calculate_total_bytes(dlbytes, ulbytes):\n",
    "    return dlbytes+ulbytes\n",
    "\n",
    "# the function above is a spark udf\n",
    "calculate_total_bytes_udf = f.udf(calculate_total_bytes, t.IntegerType())\n",
    "\n",
    "# we use the udf to create a new column\n",
    "df.withColumn('total_bytes', calculate_total_bytes_udf(df['dlbytes'], df['ulbytes'])).show(5)"
   ]
  },
  {
   "cell_type": "code",
   "execution_count": 9,
   "metadata": {},
   "outputs": [
    {
     "name": "stdout",
     "output_type": "stream",
     "text": [
      "+-------------------+-------------+--------------------+-------+-------+---------------+-------------+--------+--------+-----------+--------------------+--------+--------------+\n",
      "|          date_time|       userid|              domain|dlbytes|ulbytes|       clientip|     serverip| country|txn_time|http_method|          user_agent|platform|processed_http|\n",
      "+-------------------+-------------+--------------------+-------+-------+---------------+-------------+--------+--------+-----------+--------------------+--------+--------------+\n",
      "|2023-10-04 11:37:11|7773153683656|    ryan-wells.co.uk| 872807| 741526|142.132.219.110|62.42.184.180| England|    2.33|      HTTPS|Mozilla/5.0 (Wind...| Android|         https|\n",
      "|2023-10-04 12:17:07|1886351675683|         hopkins.org|  50898| 529504|  184.205.48.78|152.123.41.39|   Wales|     1.2|       HTTP|Mozilla/5.0 (Wind...| Android|          http|\n",
      "|2023-10-02 23:25:12|1597721345356|           evans.com| 964276| 952420|  189.30.60.163|68.171.236.18|Scotland|    1.32|       HTTP|Mozilla/5.0 (Wind...|   Linux|          http|\n",
      "|2023-10-03 09:43:11|9766845800247|           kelly.com| 212529| 811887|   13.144.79.35|63.141.80.109| England|    2.58|      HTTPS|Opera/8.54.(X11; ...| Android|         https|\n",
      "|2023-10-01 08:16:46|1546762097287|richardson-walker...| 553626| 901428| 143.74.163.248|26.253.17.223|   Wales|    1.53|       HTTP|Mozilla/5.0 (Maci...| Windows|          http|\n",
      "+-------------------+-------------+--------------------+-------+-------+---------------+-------------+--------+--------+-----------+--------------------+--------+--------------+\n",
      "only showing top 5 rows\n",
      "\n"
     ]
    }
   ],
   "source": [
    "def custom_text_processing(hhtp_method):\n",
    "    return hhtp_method.lower()\n",
    "\n",
    "custom_text_processing_udf = f.udf(custom_text_processing, t.StringType())\n",
    "\n",
    "df.withColumn('processed_http', custom_text_processing_udf(df['http_method'])).show(5)"
   ]
  },
  {
   "cell_type": "code",
   "execution_count": 12,
   "metadata": {},
   "outputs": [
    {
     "name": "stdout",
     "output_type": "stream",
     "text": [
      "+-------------------+-------------+--------------------+-------+-------+---------------+-------------+--------+--------+-----------+--------------------+--------+---------------------+\n",
      "|          date_time|       userid|              domain|dlbytes|ulbytes|       clientip|     serverip| country|txn_time|http_method|          user_agent|platform|txn_time_milliseconds|\n",
      "+-------------------+-------------+--------------------+-------+-------+---------------+-------------+--------+--------+-----------+--------------------+--------+---------------------+\n",
      "|2023-10-04 11:37:11|7773153683656|    ryan-wells.co.uk| 872807| 741526|142.132.219.110|62.42.184.180| England|    2.33|      HTTPS|Mozilla/5.0 (Wind...| Android|               2330.0|\n",
      "|2023-10-04 12:17:07|1886351675683|         hopkins.org|  50898| 529504|  184.205.48.78|152.123.41.39|   Wales|     1.2|       HTTP|Mozilla/5.0 (Wind...| Android|               1200.0|\n",
      "|2023-10-02 23:25:12|1597721345356|           evans.com| 964276| 952420|  189.30.60.163|68.171.236.18|Scotland|    1.32|       HTTP|Mozilla/5.0 (Wind...|   Linux|               1320.0|\n",
      "|2023-10-03 09:43:11|9766845800247|           kelly.com| 212529| 811887|   13.144.79.35|63.141.80.109| England|    2.58|      HTTPS|Opera/8.54.(X11; ...| Android|               2580.0|\n",
      "|2023-10-01 08:16:46|1546762097287|richardson-walker...| 553626| 901428| 143.74.163.248|26.253.17.223|   Wales|    1.53|       HTTP|Mozilla/5.0 (Maci...| Windows|               1530.0|\n",
      "+-------------------+-------------+--------------------+-------+-------+---------------+-------------+--------+--------+-----------+--------------------+--------+---------------------+\n",
      "only showing top 5 rows\n",
      "\n"
     ]
    }
   ],
   "source": [
    "def txn_time_milliseconds(txn_time):\n",
    "    return txn_time*1000\n",
    "\n",
    "txn_time_milliseconds_udf = f.udf(txn_time_milliseconds, t.FloatType())\n",
    "\n",
    "df.withColumn('txn_time_milliseconds', txn_time_milliseconds_udf(df['txn_time'])).show(5)"
   ]
  },
  {
   "cell_type": "code",
   "execution_count": null,
   "metadata": {},
   "outputs": [],
   "source": []
  },
  {
   "cell_type": "code",
   "execution_count": null,
   "metadata": {},
   "outputs": [],
   "source": []
  },
  {
   "cell_type": "code",
   "execution_count": null,
   "metadata": {},
   "outputs": [],
   "source": []
  }
 ],
 "metadata": {
  "kernelspec": {
   "display_name": "spark_env_3_11",
   "language": "python",
   "name": "python3"
  },
  "language_info": {
   "codemirror_mode": {
    "name": "ipython",
    "version": 3
   },
   "file_extension": ".py",
   "mimetype": "text/x-python",
   "name": "python",
   "nbconvert_exporter": "python",
   "pygments_lexer": "ipython3",
   "version": "3.11.6"
  }
 },
 "nbformat": 4,
 "nbformat_minor": 2
}
