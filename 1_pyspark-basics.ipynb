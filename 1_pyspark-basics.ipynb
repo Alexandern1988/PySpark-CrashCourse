{
 "cells": [
  {
   "cell_type": "code",
   "execution_count": 2,
   "metadata": {},
   "outputs": [],
   "source": [
    "import findspark\n",
    "findspark.init()\n",
    "findspark.find()\n",
    "\n",
    "from pyspark.sql import SparkSession\n",
    "import pyspark.sql.functions as f\n",
    "from pyspark.sql.types import *"
   ]
  },
  {
   "cell_type": "code",
   "execution_count": 3,
   "metadata": {},
   "outputs": [],
   "source": [
    "spark = SparkSession.builder.appName('mycourse').getOrCreate()"
   ]
  },
  {
   "cell_type": "code",
   "execution_count": 4,
   "metadata": {},
   "outputs": [],
   "source": [
    "df = spark.read.csv(r'C:\\Users\\alex\\Desktop\\PySpark Crash Course Learn Spark Quickly\\1 - Introduction\\2 - course-file\\course_file.csv', header=True)"
   ]
  },
  {
   "cell_type": "code",
   "execution_count": 5,
   "metadata": {},
   "outputs": [
    {
     "name": "stdout",
     "output_type": "stream",
     "text": [
      "+-------------------+-------------+--------------------+-------+-------+---------------+-------------+--------+--------+-----------+--------------------+--------+\n",
      "|          date_time|       userid|              domain|dlbytes|ulbytes|       clientip|     serverip| country|txn_time|http_method|          user_agent|platform|\n",
      "+-------------------+-------------+--------------------+-------+-------+---------------+-------------+--------+--------+-----------+--------------------+--------+\n",
      "|2023-10-04 11:37:11|7773153683656|    ryan-wells.co.uk| 872807| 741526|142.132.219.110|62.42.184.180| England|    2.33|      HTTPS|Mozilla/5.0 (Wind...| Android|\n",
      "|2023-10-04 12:17:07|1886351675683|         hopkins.org|  50898| 529504|  184.205.48.78|152.123.41.39|   Wales|     1.2|       HTTP|Mozilla/5.0 (Wind...| Android|\n",
      "|2023-10-02 23:25:12|1597721345356|           evans.com| 964276| 952420|  189.30.60.163|68.171.236.18|Scotland|    1.32|       HTTP|Mozilla/5.0 (Wind...|   Linux|\n",
      "|2023-10-03 09:43:11|9766845800247|           kelly.com| 212529| 811887|   13.144.79.35|63.141.80.109| England|    2.58|      HTTPS|Opera/8.54.(X11; ...| Android|\n",
      "|2023-10-01 08:16:46|1546762097287|richardson-walker...| 553626| 901428| 143.74.163.248|26.253.17.223|   Wales|    1.53|       HTTP|Mozilla/5.0 (Maci...| Windows|\n",
      "+-------------------+-------------+--------------------+-------+-------+---------------+-------------+--------+--------+-----------+--------------------+--------+\n",
      "only showing top 5 rows\n",
      "\n"
     ]
    }
   ],
   "source": [
    "df.show(5)"
   ]
  },
  {
   "cell_type": "code",
   "execution_count": 6,
   "metadata": {},
   "outputs": [
    {
     "name": "stdout",
     "output_type": "stream",
     "text": [
      "root\n",
      " |-- date_time: string (nullable = true)\n",
      " |-- userid: string (nullable = true)\n",
      " |-- domain: string (nullable = true)\n",
      " |-- dlbytes: string (nullable = true)\n",
      " |-- ulbytes: string (nullable = true)\n",
      " |-- clientip: string (nullable = true)\n",
      " |-- serverip: string (nullable = true)\n",
      " |-- country: string (nullable = true)\n",
      " |-- txn_time: string (nullable = true)\n",
      " |-- http_method: string (nullable = true)\n",
      " |-- user_agent: string (nullable = true)\n",
      " |-- platform: string (nullable = true)\n",
      "\n"
     ]
    }
   ],
   "source": [
    "df.printSchema()"
   ]
  },
  {
   "cell_type": "code",
   "execution_count": 7,
   "metadata": {},
   "outputs": [
    {
     "name": "stdout",
     "output_type": "stream",
     "text": [
      "+-------+-------------------+--------------------+-----------------+------------------+-----------------+-----------+------------+-------+------------------+-----------+--------------------+--------+\n",
      "|summary|          date_time|              userid|           domain|           dlbytes|          ulbytes|   clientip|    serverip|country|          txn_time|http_method|          user_agent|platform|\n",
      "+-------+-------------------+--------------------+-----------------+------------------+-----------------+-----------+------------+-------+------------------+-----------+--------------------+--------+\n",
      "|  count|             100000|              100000|           100000|            100000|           100000|     100000|      100000| 100000|            100000|     100000|              100000|  100000|\n",
      "|   mean|               NULL|5.010135665120539E12|             NULL|      499993.58573|     499925.16314|       NULL|        NULL|   NULL|1.4980519999999975|       NULL|                NULL|    NULL|\n",
      "| stddev|               NULL|2.898286126875014...|             NULL|288565.82296079345|288284.7692300469|       NULL|        NULL|   NULL|0.8669253606232833|       NULL|                NULL|    NULL|\n",
      "|    min|2023-10-01 00:00:01|       0000034807482|abbott-barnes.com|            100000|           100022|1.0.166.229|  1.1.144.16|England|               0.0|       HTTP|Mozilla/5.0 (Andr...| Android|\n",
      "|    max|2023-10-05 23:58:52|       9999986035271|        young.org|            999994|           999975|99.99.69.51|99.97.24.198|  Wales|               3.0|      HTTPS|Opera/9.99.(X11; ...|     iOS|\n",
      "+-------+-------------------+--------------------+-----------------+------------------+-----------------+-----------+------------+-------+------------------+-----------+--------------------+--------+\n",
      "\n"
     ]
    }
   ],
   "source": [
    "df.describe().show()"
   ]
  },
  {
   "cell_type": "code",
   "execution_count": 8,
   "metadata": {},
   "outputs": [
    {
     "data": {
      "text/plain": [
       "100000"
      ]
     },
     "execution_count": 8,
     "metadata": {},
     "output_type": "execute_result"
    }
   ],
   "source": [
    "# how many rows the data has\n",
    "df.count()"
   ]
  },
  {
   "cell_type": "code",
   "execution_count": 9,
   "metadata": {},
   "outputs": [
    {
     "data": {
      "text/plain": [
       "['date_time',\n",
       " 'userid',\n",
       " 'domain',\n",
       " 'dlbytes',\n",
       " 'ulbytes',\n",
       " 'clientip',\n",
       " 'serverip',\n",
       " 'country',\n",
       " 'txn_time',\n",
       " 'http_method',\n",
       " 'user_agent',\n",
       " 'platform']"
      ]
     },
     "execution_count": 9,
     "metadata": {},
     "output_type": "execute_result"
    }
   ],
   "source": [
    "df.columns"
   ]
  },
  {
   "cell_type": "code",
   "execution_count": 10,
   "metadata": {},
   "outputs": [
    {
     "data": {
      "text/plain": [
       "[('date_time', 'string'),\n",
       " ('userid', 'string'),\n",
       " ('domain', 'string'),\n",
       " ('dlbytes', 'string'),\n",
       " ('ulbytes', 'string'),\n",
       " ('clientip', 'string'),\n",
       " ('serverip', 'string'),\n",
       " ('country', 'string'),\n",
       " ('txn_time', 'string'),\n",
       " ('http_method', 'string'),\n",
       " ('user_agent', 'string'),\n",
       " ('platform', 'string')]"
      ]
     },
     "execution_count": 10,
     "metadata": {},
     "output_type": "execute_result"
    }
   ],
   "source": [
    "df.dtypes"
   ]
  },
  {
   "cell_type": "code",
   "execution_count": 11,
   "metadata": {},
   "outputs": [
    {
     "name": "stdout",
     "output_type": "stream",
     "text": [
      "+--------+-------+\n",
      "| country|dlbytes|\n",
      "+--------+-------+\n",
      "| England| 872807|\n",
      "|   Wales|  50898|\n",
      "|Scotland| 964276|\n",
      "| England| 212529|\n",
      "|   Wales| 553626|\n",
      "| England|  43595|\n",
      "| England| 270574|\n",
      "|Scotland| 342378|\n",
      "|Scotland| 613214|\n",
      "| England| 643362|\n",
      "| Ireland| 603759|\n",
      "| England| 707145|\n",
      "|   Wales| 640439|\n",
      "| England| 764956|\n",
      "| Ireland| 651947|\n",
      "| Ireland| 428528|\n",
      "|   Wales|  23710|\n",
      "|   Wales| 447095|\n",
      "| England| 809701|\n",
      "|Scotland| 204941|\n",
      "+--------+-------+\n",
      "only showing top 20 rows\n",
      "\n"
     ]
    }
   ],
   "source": [
    "# select opertaion\n",
    "countries = df.select('country', 'dlbytes')\n",
    "countries.show()"
   ]
  },
  {
   "cell_type": "code",
   "execution_count": 69,
   "metadata": {},
   "outputs": [
    {
     "name": "stdout",
     "output_type": "stream",
     "text": [
      "+-------------------+-------------+--------------------+-------+-------+---------------+-------------+--------+--------+-----------+--------------------+--------+\n",
      "|          date_time|       userid|              domain|dlbytes|ulbytes|       clientip|     serverip| country|txn_time|http_method|          user_agent|platform|\n",
      "+-------------------+-------------+--------------------+-------+-------+---------------+-------------+--------+--------+-----------+--------------------+--------+\n",
      "|2023-10-04 11:37:11|7773153683656|    ryan-wells.co.uk| 872807| 741526|142.132.219.110|62.42.184.180| England|    2.33|      HTTPS|Mozilla/5.0 (Wind...| Android|\n",
      "|2023-10-04 12:17:07|1886351675683|         hopkins.org|  50898| 529504|  184.205.48.78|152.123.41.39|   Wales|     1.2|       HTTP|Mozilla/5.0 (Wind...| Android|\n",
      "|2023-10-02 23:25:12|1597721345356|           evans.com| 964276| 952420|  189.30.60.163|68.171.236.18|Scotland|    1.32|       HTTP|Mozilla/5.0 (Wind...|   Linux|\n",
      "|2023-10-03 09:43:11|9766845800247|           kelly.com| 212529| 811887|   13.144.79.35|63.141.80.109| England|    2.58|      HTTPS|Opera/8.54.(X11; ...| Android|\n",
      "|2023-10-01 08:16:46|1546762097287|richardson-walker...| 553626| 901428| 143.74.163.248|26.253.17.223|   Wales|    1.53|       HTTP|Mozilla/5.0 (Maci...| Windows|\n",
      "+-------------------+-------------+--------------------+-------+-------+---------------+-------------+--------+--------+-----------+--------------------+--------+\n",
      "only showing top 5 rows\n",
      "\n"
     ]
    }
   ],
   "source": [
    "from pyspark.sql.types import *\n",
    "#define a custom schema\n",
    "custome_schema = StructType([\n",
    "    StructField('date_time', StringType(), True),\n",
    "    StructField('userid', StringType(), True),\n",
    "    StructField('domain', StringType(), True),\n",
    "    StructField('dlbytes', IntegerType(), True),\n",
    "    StructField('ulbytes', IntegerType(), True),\n",
    "    StructField('clientip', StringType(), True),\n",
    "    StructField('serverip', StringType(), True),\n",
    "    StructField('country', StringType(), True),\n",
    "    StructField('txn_time', FloatType(), True),\n",
    "    StructField('http_method', StringType(), True),\n",
    "    StructField('user_agent', StringType(), True),\n",
    "    StructField('platform', StringType(), True)\n",
    "])\n",
    "\n",
    "\n",
    "# load the data with the custom schema\n",
    "data_path = r'C:\\Users\\alex\\Desktop\\PySpark Crash Course Learn Spark Quickly\\1 - Introduction\\2 - course-file\\course_file.csv'\n",
    "df = spark.read.csv(data_path, schema=custome_schema, header=True)\n",
    "\n",
    "# show the loaded Datafarme\n",
    "df.show(5)"
   ]
  },
  {
   "cell_type": "code",
   "execution_count": 30,
   "metadata": {},
   "outputs": [
    {
     "name": "stdout",
     "output_type": "stream",
     "text": [
      "root\n",
      " |-- date_time: string (nullable = true)\n",
      " |-- userid: string (nullable = true)\n",
      " |-- domain: string (nullable = true)\n",
      " |-- dlbytes: integer (nullable = true)\n",
      " |-- ulbytes: integer (nullable = true)\n",
      " |-- clientip: string (nullable = true)\n",
      " |-- serverip: string (nullable = true)\n",
      " |-- country: string (nullable = true)\n",
      " |-- txn_time: float (nullable = true)\n",
      " |-- http_method: string (nullable = true)\n",
      " |-- user_agent: string (nullable = true)\n",
      " |-- platform: string (nullable = true)\n",
      "\n"
     ]
    }
   ],
   "source": [
    "df.printSchema()"
   ]
  },
  {
   "cell_type": "markdown",
   "metadata": {},
   "source": [
    "# Dealing with nulls"
   ]
  },
  {
   "cell_type": "code",
   "execution_count": 68,
   "metadata": {},
   "outputs": [
    {
     "name": "stdout",
     "output_type": "stream",
     "text": [
      "+-------------------+-------------+--------------------+-------+-------+---------------+-------------+--------+--------+-----------+--------------------+--------+\n",
      "|          date_time|       userid|              domain|dlbytes|ulbytes|       clientip|     serverip| country|txn_time|http_method|          user_agent|platform|\n",
      "+-------------------+-------------+--------------------+-------+-------+---------------+-------------+--------+--------+-----------+--------------------+--------+\n",
      "|2023-10-04 11:37:11|7773153683656|    ryan-wells.co.uk| 872807| 741526|142.132.219.110|62.42.184.180| England|    2.33|      HTTPS|Mozilla/5.0 (Wind...| Android|\n",
      "|2023-10-04 12:17:07|1886351675683|         hopkins.org|  50898| 529504|  184.205.48.78|152.123.41.39|   Wales|     1.2|       HTTP|Mozilla/5.0 (Wind...| Android|\n",
      "|2023-10-02 23:25:12|1597721345356|           evans.com| 964276| 952420|  189.30.60.163|68.171.236.18|Scotland|    1.32|       HTTP|Mozilla/5.0 (Wind...|   Linux|\n",
      "|2023-10-03 09:43:11|9766845800247|           kelly.com| 212529| 811887|   13.144.79.35|63.141.80.109| England|    2.58|      HTTPS|Opera/8.54.(X11; ...| Android|\n",
      "|2023-10-01 08:16:46|1546762097287|richardson-walker...| 553626| 901428| 143.74.163.248|26.253.17.223|   Wales|    1.53|       HTTP|Mozilla/5.0 (Maci...| Windows|\n",
      "+-------------------+-------------+--------------------+-------+-------+---------------+-------------+--------+--------+-----------+--------------------+--------+\n",
      "only showing top 5 rows\n",
      "\n"
     ]
    }
   ],
   "source": [
    "# dealing with null values\n",
    "df.fillna({\n",
    "    'dlbytes': 0,\n",
    "    'ulbytes': 0,\n",
    "    'country':'unknown'\n",
    "}).show(5)"
   ]
  },
  {
   "cell_type": "code",
   "execution_count": 67,
   "metadata": {},
   "outputs": [
    {
     "name": "stdout",
     "output_type": "stream",
     "text": [
      "+-------------------+-------------+--------------------+-------+-------+---------------+-------------+--------+--------+-----------+--------------------+--------+\n",
      "|          date_time|       userid|              domain|dlbytes|ulbytes|       clientip|     serverip| country|txn_time|http_method|          user_agent|platform|\n",
      "+-------------------+-------------+--------------------+-------+-------+---------------+-------------+--------+--------+-----------+--------------------+--------+\n",
      "|2023-10-04 11:37:11|7773153683656|    ryan-wells.co.uk| 872807| 741526|142.132.219.110|62.42.184.180| England|    2.33|      HTTPS|Mozilla/5.0 (Wind...| Android|\n",
      "|2023-10-04 12:17:07|1886351675683|         hopkins.org|  50898| 529504|  184.205.48.78|152.123.41.39|   Wales|     1.2|       HTTP|Mozilla/5.0 (Wind...| Android|\n",
      "|2023-10-02 23:25:12|1597721345356|           evans.com| 964276| 952420|  189.30.60.163|68.171.236.18|Scotland|    1.32|       HTTP|Mozilla/5.0 (Wind...|   Linux|\n",
      "|2023-10-03 09:43:11|9766845800247|           kelly.com| 212529| 811887|   13.144.79.35|63.141.80.109| England|    2.58|      HTTPS|Opera/8.54.(X11; ...| Android|\n",
      "|2023-10-01 08:16:46|1546762097287|richardson-walker...| 553626| 901428| 143.74.163.248|26.253.17.223|   Wales|    1.53|       HTTP|Mozilla/5.0 (Maci...| Windows|\n",
      "+-------------------+-------------+--------------------+-------+-------+---------------+-------------+--------+--------+-----------+--------------------+--------+\n",
      "only showing top 5 rows\n",
      "\n"
     ]
    }
   ],
   "source": [
    "# apply a single rule over the entire dataset\n",
    "df.fillna('1').show(5)"
   ]
  },
  {
   "cell_type": "code",
   "execution_count": 71,
   "metadata": {},
   "outputs": [
    {
     "name": "stdout",
     "output_type": "stream",
     "text": [
      "+-------------------+-------------+--------------------+-------+-------+---------------+-------------+--------+--------+-----------+--------------------+--------+\n",
      "|          date_time|       userid|              domain|dlbytes|ulbytes|       clientip|     serverip| country|txn_time|http_method|          user_agent|platform|\n",
      "+-------------------+-------------+--------------------+-------+-------+---------------+-------------+--------+--------+-----------+--------------------+--------+\n",
      "|2023-10-04 11:37:11|7773153683656|    ryan-wells.co.uk| 872807| 741526|142.132.219.110|62.42.184.180| England|    2.33|      HTTPS|Mozilla/5.0 (Wind...| Android|\n",
      "|2023-10-04 12:17:07|1886351675683|         hopkins.org|  50898| 529504|  184.205.48.78|152.123.41.39|   Wales|     1.2|       HTTP|Mozilla/5.0 (Wind...| Android|\n",
      "|2023-10-02 23:25:12|1597721345356|           evans.com| 964276| 952420|  189.30.60.163|68.171.236.18|Scotland|    1.32|       HTTP|Mozilla/5.0 (Wind...|   Linux|\n",
      "|2023-10-03 09:43:11|9766845800247|           kelly.com| 212529| 811887|   13.144.79.35|63.141.80.109| England|    2.58|      HTTPS|Opera/8.54.(X11; ...| Android|\n",
      "|2023-10-01 08:16:46|1546762097287|richardson-walker...| 553626| 901428| 143.74.163.248|26.253.17.223|   Wales|    1.53|       HTTP|Mozilla/5.0 (Maci...| Windows|\n",
      "+-------------------+-------------+--------------------+-------+-------+---------------+-------------+--------+--------+-----------+--------------------+--------+\n",
      "only showing top 5 rows\n",
      "\n",
      "+-------------------+-------------+--------------------+-------+-------+---------------+-------------+--------+--------+-----------+--------------------+--------+\n",
      "|          date_time|       userid|              domain|dlbytes|ulbytes|       clientip|     serverip| country|txn_time|http_method|          user_agent|platform|\n",
      "+-------------------+-------------+--------------------+-------+-------+---------------+-------------+--------+--------+-----------+--------------------+--------+\n",
      "|2023-10-04 11:37:11|7773153683656|    ryan-wells.co.uk| 872807| 741526|142.132.219.110|62.42.184.180| England|    2.33|      HTTPS|Mozilla/5.0 (Wind...| Android|\n",
      "|2023-10-04 12:17:07|1886351675683|         hopkins.org|  50898| 529504|  184.205.48.78|152.123.41.39|   Wales|     1.2|       HTTP|Mozilla/5.0 (Wind...| Android|\n",
      "|2023-10-02 23:25:12|1597721345356|           evans.com| 964276| 952420|  189.30.60.163|68.171.236.18|Scotland|    1.32|       HTTP|Mozilla/5.0 (Wind...|   Linux|\n",
      "|2023-10-03 09:43:11|9766845800247|           kelly.com| 212529| 811887|   13.144.79.35|63.141.80.109| England|    2.58|      HTTPS|Opera/8.54.(X11; ...| Android|\n",
      "|2023-10-01 08:16:46|1546762097287|richardson-walker...| 553626| 901428| 143.74.163.248|26.253.17.223|   Wales|    1.53|       HTTP|Mozilla/5.0 (Maci...| Windows|\n",
      "+-------------------+-------------+--------------------+-------+-------+---------------+-------------+--------+--------+-----------+--------------------+--------+\n",
      "only showing top 5 rows\n",
      "\n"
     ]
    }
   ],
   "source": [
    "# drop null rows\n",
    "df.dropna().show(5)\n",
    "\n",
    "# drop only the rows where country have nulls\n",
    "df.dropna(subset=['country']).show(5)"
   ]
  },
  {
   "cell_type": "code",
   "execution_count": 35,
   "metadata": {},
   "outputs": [],
   "source": [
    "average = df.agg(F.avg('dlbytes')).collect()[0][0]"
   ]
  },
  {
   "cell_type": "code",
   "execution_count": 65,
   "metadata": {},
   "outputs": [
    {
     "name": "stdout",
     "output_type": "stream",
     "text": [
      "499993.58573\n",
      "+-------------------+-------------+--------------------+-------+-------+---------------+-------------+--------+--------+-----------+--------------------+--------+\n",
      "|          date_time|       userid|              domain|dlbytes|ulbytes|       clientip|     serverip| country|txn_time|http_method|          user_agent|platform|\n",
      "+-------------------+-------------+--------------------+-------+-------+---------------+-------------+--------+--------+-----------+--------------------+--------+\n",
      "|2023-10-04 11:37:11|7773153683656|    ryan-wells.co.uk| 872807| 741526|142.132.219.110|62.42.184.180| England|    2.33|      HTTPS|Mozilla/5.0 (Wind...| Android|\n",
      "|2023-10-04 12:17:07|1886351675683|         hopkins.org|  50898| 529504|  184.205.48.78|152.123.41.39|   Wales|     1.2|       HTTP|Mozilla/5.0 (Wind...| Android|\n",
      "|2023-10-02 23:25:12|1597721345356|           evans.com| 964276| 952420|  189.30.60.163|68.171.236.18|Scotland|    1.32|       HTTP|Mozilla/5.0 (Wind...|   Linux|\n",
      "|2023-10-03 09:43:11|9766845800247|           kelly.com| 212529| 811887|   13.144.79.35|63.141.80.109| England|    2.58|      HTTPS|Opera/8.54.(X11; ...| Android|\n",
      "|2023-10-01 08:16:46|1546762097287|richardson-walker...| 553626| 901428| 143.74.163.248|26.253.17.223|   Wales|    1.53|       HTTP|Mozilla/5.0 (Maci...| Windows|\n",
      "+-------------------+-------------+--------------------+-------+-------+---------------+-------------+--------+--------+-----------+--------------------+--------+\n",
      "only showing top 5 rows\n",
      "\n"
     ]
    }
   ],
   "source": [
    "print(average)\n",
    "\n",
    "df.fillna({\n",
    "    'dlbytes': average,\n",
    "    'ulbytes': 0,\n",
    "    'country':'unknown'\n",
    "}).show(5)"
   ]
  },
  {
   "cell_type": "markdown",
   "metadata": {},
   "source": [
    "# Grouping"
   ]
  },
  {
   "cell_type": "code",
   "execution_count": 37,
   "metadata": {},
   "outputs": [],
   "source": [
    "# create a temp view to run sql queries available only for this session, if we use golobal than its available for all the session\n",
    "df.createOrReplaceTempView('dfsql')"
   ]
  },
  {
   "cell_type": "code",
   "execution_count": 40,
   "metadata": {},
   "outputs": [
    {
     "name": "stdout",
     "output_type": "stream",
     "text": [
      "+--------+-----+\n",
      "| country|  cnt|\n",
      "+--------+-----+\n",
      "|   Wales|12503|\n",
      "| Ireland|12446|\n",
      "| England|12667|\n",
      "|Scotland|12322|\n",
      "+--------+-----+\n",
      "\n"
     ]
    }
   ],
   "source": [
    "# create aggregations using sql statements\n",
    "spark.sql(\n",
    "    \"\"\"\n",
    "    select country, count(*) as cnt \n",
    "    from dfsql\n",
    "    where dlbytes > 500000\n",
    "    group by country\n",
    "\"\"\"\n",
    ").show()"
   ]
  },
  {
   "cell_type": "code",
   "execution_count": 45,
   "metadata": {},
   "outputs": [
    {
     "name": "stdout",
     "output_type": "stream",
     "text": [
      "+--------+------------------+------------+\n",
      "| country|             AvgUL|sum(dlbytes)|\n",
      "+--------+------------------+------------+\n",
      "|   Wales| 501170.9036600422| 12506206681|\n",
      "| Ireland|498588.33693996957| 12496130770|\n",
      "| England| 500240.4421728041| 12629527260|\n",
      "|Scotland|499690.46323203866| 12367493862|\n",
      "+--------+------------------+------------+\n",
      "\n"
     ]
    }
   ],
   "source": [
    "grouped_df1 = df.groupBy('country').agg(\n",
    "    {\n",
    "        'dlbytes':'sum',\n",
    "        'ulbytes':'avg'\n",
    "    }\n",
    ")#.show()\n",
    "\n",
    "grouped_df1.withColumnRenamed('avg(ulbytes)','AvgUL').show()"
   ]
  },
  {
   "cell_type": "code",
   "execution_count": null,
   "metadata": {},
   "outputs": [],
   "source": [
    "import pyspark.sql.functions as f"
   ]
  },
  {
   "cell_type": "code",
   "execution_count": 64,
   "metadata": {},
   "outputs": [
    {
     "name": "stdout",
     "output_type": "stream",
     "text": [
      "+--------+--------+----------+------------------+---------+\n",
      "| country|platform|        DL|                UL|row_count|\n",
      "+--------+--------+----------+------------------+---------+\n",
      "| England| Windows|2519261611|496956.96056562435|     5021|\n",
      "|   Wales| Android|2486373821| 499227.4556886228|     5010|\n",
      "| Ireland| Android|2462635163| 501362.6873722926|     4894|\n",
      "| Ireland|     Mac|2507337591| 496117.7526796348|     5038|\n",
      "|Scotland| Windows|2492168780|498358.41915447806|     4991|\n",
      "+--------+--------+----------+------------------+---------+\n",
      "only showing top 5 rows\n",
      "\n"
     ]
    }
   ],
   "source": [
    "df.groupBy('country', 'platform').agg(\n",
    "    f.sum('dlbytes').alias('DL'),\n",
    "    f.avg('ulbytes').alias('UL'),\n",
    "    f.count('*').alias('row_count')\n",
    ").show(5)"
   ]
  },
  {
   "cell_type": "markdown",
   "metadata": {},
   "source": [
    "# Adding columns"
   ]
  },
  {
   "cell_type": "code",
   "execution_count": 52,
   "metadata": {},
   "outputs": [
    {
     "name": "stdout",
     "output_type": "stream",
     "text": [
      "+-------------------+-------------+--------------------+-------+-------+---------------+-------------+--------+--------+-----------+--------------------+--------+-----------+\n",
      "|          date_time|       userid|              domain|dlbytes|ulbytes|       clientip|     serverip| country|txn_time|http_method|          user_agent|platform|total_bytes|\n",
      "+-------------------+-------------+--------------------+-------+-------+---------------+-------------+--------+--------+-----------+--------------------+--------+-----------+\n",
      "|2023-10-04 11:37:11|7773153683656|    ryan-wells.co.uk| 872807| 741526|142.132.219.110|62.42.184.180| England|    2.33|      HTTPS|Mozilla/5.0 (Wind...| Android|    1614333|\n",
      "|2023-10-04 12:17:07|1886351675683|         hopkins.org|  50898| 529504|  184.205.48.78|152.123.41.39|   Wales|     1.2|       HTTP|Mozilla/5.0 (Wind...| Android|     580402|\n",
      "|2023-10-02 23:25:12|1597721345356|           evans.com| 964276| 952420|  189.30.60.163|68.171.236.18|Scotland|    1.32|       HTTP|Mozilla/5.0 (Wind...|   Linux|    1916696|\n",
      "|2023-10-03 09:43:11|9766845800247|           kelly.com| 212529| 811887|   13.144.79.35|63.141.80.109| England|    2.58|      HTTPS|Opera/8.54.(X11; ...| Android|    1024416|\n",
      "|2023-10-01 08:16:46|1546762097287|richardson-walker...| 553626| 901428| 143.74.163.248|26.253.17.223|   Wales|    1.53|       HTTP|Mozilla/5.0 (Maci...| Windows|    1455054|\n",
      "+-------------------+-------------+--------------------+-------+-------+---------------+-------------+--------+--------+-----------+--------------------+--------+-----------+\n",
      "only showing top 5 rows\n",
      "\n"
     ]
    }
   ],
   "source": [
    "# add a new column\n",
    "df.withColumn('total_bytes', f.col('dlbytes') + f.col('ulbytes')).show(5)"
   ]
  },
  {
   "cell_type": "code",
   "execution_count": 63,
   "metadata": {},
   "outputs": [
    {
     "name": "stdout",
     "output_type": "stream",
     "text": [
      "+-------------------+-------------+--------------------+-------+-------+---------------+-------------+--------+--------+-----------+--------------------+--------+----+\n",
      "|          date_time|       userid|              domain|dlbytes|ulbytes|       clientip|     serverip| country|txn_time|http_method|          user_agent|platform|year|\n",
      "+-------------------+-------------+--------------------+-------+-------+---------------+-------------+--------+--------+-----------+--------------------+--------+----+\n",
      "|2023-10-04 11:37:11|7773153683656|    ryan-wells.co.uk| 872807| 741526|142.132.219.110|62.42.184.180| England|    2.33|      HTTPS|Mozilla/5.0 (Wind...| Android|2023|\n",
      "|2023-10-04 12:17:07|1886351675683|         hopkins.org|  50898| 529504|  184.205.48.78|152.123.41.39|   Wales|     1.2|       HTTP|Mozilla/5.0 (Wind...| Android|2023|\n",
      "|2023-10-02 23:25:12|1597721345356|           evans.com| 964276| 952420|  189.30.60.163|68.171.236.18|Scotland|    1.32|       HTTP|Mozilla/5.0 (Wind...|   Linux|2023|\n",
      "|2023-10-03 09:43:11|9766845800247|           kelly.com| 212529| 811887|   13.144.79.35|63.141.80.109| England|    2.58|      HTTPS|Opera/8.54.(X11; ...| Android|2023|\n",
      "|2023-10-01 08:16:46|1546762097287|richardson-walker...| 553626| 901428| 143.74.163.248|26.253.17.223|   Wales|    1.53|       HTTP|Mozilla/5.0 (Maci...| Windows|2023|\n",
      "+-------------------+-------------+--------------------+-------+-------+---------------+-------------+--------+--------+-----------+--------------------+--------+----+\n",
      "only showing top 5 rows\n",
      "\n"
     ]
    }
   ],
   "source": [
    "df.withColumn('year', f.year('date_time')).show(5)"
   ]
  },
  {
   "cell_type": "code",
   "execution_count": 62,
   "metadata": {},
   "outputs": [
    {
     "name": "stdout",
     "output_type": "stream",
     "text": [
      "+-------------------+-------------+--------------------+-------+-------+---------------+-------------+--------+--------+-----------+--------------------+--------+--------------------+\n",
      "|          date_time|       userid|              domain|dlbytes|ulbytes|       clientip|     serverip| country|txn_time|http_method|          user_agent|platform|txntime_milliseconds|\n",
      "+-------------------+-------------+--------------------+-------+-------+---------------+-------------+--------+--------+-----------+--------------------+--------+--------------------+\n",
      "|2023-10-04 11:37:11|7773153683656|    ryan-wells.co.uk| 872807| 741526|142.132.219.110|62.42.184.180| England|    2.33|      HTTPS|Mozilla/5.0 (Wind...| Android|              2330.0|\n",
      "|2023-10-04 12:17:07|1886351675683|         hopkins.org|  50898| 529504|  184.205.48.78|152.123.41.39|   Wales|     1.2|       HTTP|Mozilla/5.0 (Wind...| Android|              1200.0|\n",
      "|2023-10-02 23:25:12|1597721345356|           evans.com| 964276| 952420|  189.30.60.163|68.171.236.18|Scotland|    1.32|       HTTP|Mozilla/5.0 (Wind...|   Linux|              1320.0|\n",
      "|2023-10-03 09:43:11|9766845800247|           kelly.com| 212529| 811887|   13.144.79.35|63.141.80.109| England|    2.58|      HTTPS|Opera/8.54.(X11; ...| Android|              2580.0|\n",
      "|2023-10-01 08:16:46|1546762097287|richardson-walker...| 553626| 901428| 143.74.163.248|26.253.17.223|   Wales|    1.53|       HTTP|Mozilla/5.0 (Maci...| Windows|              1530.0|\n",
      "+-------------------+-------------+--------------------+-------+-------+---------------+-------------+--------+--------+-----------+--------------------+--------+--------------------+\n",
      "only showing top 5 rows\n",
      "\n"
     ]
    }
   ],
   "source": [
    "df.withColumn('txntime_milliseconds', f.col('txn_time') * 1000).show(5)"
   ]
  },
  {
   "cell_type": "code",
   "execution_count": 61,
   "metadata": {},
   "outputs": [
    {
     "name": "stdout",
     "output_type": "stream",
     "text": [
      "+-------------------+-------------+--------------------+-------+-------+---------------+-------------+--------+--------+-----------+--------------------+--------+-----------+\n",
      "|          date_time|       userid|              domain|dlbytes|ulbytes|       clientip|     serverip| country|txn_time|http_method|          user_agent|platform|device_type|\n",
      "+-------------------+-------------+--------------------+-------+-------+---------------+-------------+--------+--------+-----------+--------------------+--------+-----------+\n",
      "|2023-10-04 11:37:11|7773153683656|    ryan-wells.co.uk| 872807| 741526|142.132.219.110|62.42.184.180| England|    2.33|      HTTPS|Mozilla/5.0 (Wind...| Android|    desktop|\n",
      "|2023-10-04 12:17:07|1886351675683|         hopkins.org|  50898| 529504|  184.205.48.78|152.123.41.39|   Wales|     1.2|       HTTP|Mozilla/5.0 (Wind...| Android|    desktop|\n",
      "|2023-10-02 23:25:12|1597721345356|           evans.com| 964276| 952420|  189.30.60.163|68.171.236.18|Scotland|    1.32|       HTTP|Mozilla/5.0 (Wind...|   Linux|    desktop|\n",
      "|2023-10-03 09:43:11|9766845800247|           kelly.com| 212529| 811887|   13.144.79.35|63.141.80.109| England|    2.58|      HTTPS|Opera/8.54.(X11; ...| Android|    desktop|\n",
      "|2023-10-01 08:16:46|1546762097287|richardson-walker...| 553626| 901428| 143.74.163.248|26.253.17.223|   Wales|    1.53|       HTTP|Mozilla/5.0 (Maci...| Windows|    desktop|\n",
      "+-------------------+-------------+--------------------+-------+-------+---------------+-------------+--------+--------+-----------+--------------------+--------+-----------+\n",
      "only showing top 5 rows\n",
      "\n"
     ]
    }
   ],
   "source": [
    "df.withColumn(\n",
    "    'device_type', f.when(f.col('platform')\\\n",
    "                .isin('ios','android'), 'mobile')\\\n",
    "                .otherwise('desktop')\n",
    ").show(5)"
   ]
  },
  {
   "cell_type": "markdown",
   "metadata": {},
   "source": [
    "# Duplicates"
   ]
  },
  {
   "cell_type": "code",
   "execution_count": 60,
   "metadata": {},
   "outputs": [
    {
     "name": "stdout",
     "output_type": "stream",
     "text": [
      "+-------------------+-------------+-----------------+-------+-------+---------------+--------------+--------+--------+-----------+--------------------+--------+\n",
      "|          date_time|       userid|           domain|dlbytes|ulbytes|       clientip|      serverip| country|txn_time|http_method|          user_agent|platform|\n",
      "+-------------------+-------------+-----------------+-------+-------+---------------+--------------+--------+--------+-----------+--------------------+--------+\n",
      "|2023-10-01 01:44:48|7459811387109|james-hopkins.org| 267656| 765048|110.244.252.192| 52.61.179.158|   Wales|     2.4|      HTTPS|Mozilla/5.0 (Linu...| Windows|\n",
      "|2023-10-05 13:33:08|1967082172676|   rogers-cox.org| 988154| 578020|   58.175.76.51|  9.224.91.149| Ireland|    0.35|      HTTPS|Opera/8.36.(Windo...| Android|\n",
      "|2023-10-04 01:45:30|7168289460941|black-allen.co.uk| 885953| 881854|  195.84.120.68| 13.175.78.172|Scotland|    1.84|      HTTPS|Mozilla/5.0 (Maci...| Android|\n",
      "|2023-10-04 16:07:28|5195176930834|      thomson.biz| 807182| 104839|    14.9.85.211|28.187.167.208| England|    2.31|      HTTPS|Mozilla/5.0 (iPod...|     Mac|\n",
      "|2023-10-04 18:46:04|7472862830582|    knowles.co.uk| 266207| 203596|  196.39.64.231|  88.165.0.122| England|    2.02|      HTTPS|Mozilla/5.0 (X11;...|     Mac|\n",
      "+-------------------+-------------+-----------------+-------+-------+---------------+--------------+--------+--------+-----------+--------------------+--------+\n",
      "only showing top 5 rows\n",
      "\n"
     ]
    }
   ],
   "source": [
    "# droping all duplicates\n",
    "df.dropDuplicates().show(5)"
   ]
  },
  {
   "cell_type": "code",
   "execution_count": 76,
   "metadata": {},
   "outputs": [],
   "source": [
    "df = df.dropDuplicates(['userid'])#.show(5)"
   ]
  },
  {
   "cell_type": "code",
   "execution_count": 77,
   "metadata": {},
   "outputs": [
    {
     "name": "stdout",
     "output_type": "stream",
     "text": [
      "+-------------+-----+\n",
      "|       userid|count|\n",
      "+-------------+-----+\n",
      "|9476243665412|    1|\n",
      "|7435163662288|    1|\n",
      "|6078186529360|    1|\n",
      "|0404364283997|    1|\n",
      "|9712471062565|    1|\n",
      "|5518019884193|    1|\n",
      "|0154603546029|    1|\n",
      "|0975095706028|    1|\n",
      "|0092213970495|    1|\n",
      "|8292463551450|    1|\n",
      "|9193610451990|    1|\n",
      "|8470101955002|    1|\n",
      "|4096254500198|    1|\n",
      "|7089895133125|    1|\n",
      "|0133730261390|    1|\n",
      "|8300394808680|    1|\n",
      "|1409348237572|    1|\n",
      "|8781094037166|    1|\n",
      "|1837572565487|    1|\n",
      "|9743743756974|    1|\n",
      "+-------------+-----+\n",
      "only showing top 20 rows\n",
      "\n"
     ]
    }
   ],
   "source": [
    "# check duplicates\n",
    "df.groupBy('userid').count().show()"
   ]
  },
  {
   "cell_type": "markdown",
   "metadata": {},
   "source": [
    "# Export file"
   ]
  },
  {
   "cell_type": "code",
   "execution_count": null,
   "metadata": {},
   "outputs": [],
   "source": [
    "df.write.csv(r'C:\\Users\\alex\\Desktop\\PySpark Crash Course Learn Spark Quickly\\1 - Introduction\\2 - course-file\\my_csv_file.csv')"
   ]
  },
  {
   "cell_type": "code",
   "execution_count": null,
   "metadata": {},
   "outputs": [],
   "source": [
    "# if we want to change the partitions and dont want multiple files\n",
    "df = df.coalesce(1)"
   ]
  },
  {
   "cell_type": "code",
   "execution_count": null,
   "metadata": {},
   "outputs": [],
   "source": [
    "df.write.json('hsonfile')"
   ]
  },
  {
   "cell_type": "markdown",
   "metadata": {},
   "source": []
  },
  {
   "cell_type": "code",
   "execution_count": null,
   "metadata": {},
   "outputs": [],
   "source": []
  },
  {
   "cell_type": "code",
   "execution_count": null,
   "metadata": {},
   "outputs": [],
   "source": []
  },
  {
   "cell_type": "code",
   "execution_count": null,
   "metadata": {},
   "outputs": [],
   "source": []
  },
  {
   "cell_type": "code",
   "execution_count": null,
   "metadata": {},
   "outputs": [],
   "source": []
  },
  {
   "cell_type": "code",
   "execution_count": null,
   "metadata": {},
   "outputs": [],
   "source": []
  },
  {
   "cell_type": "code",
   "execution_count": null,
   "metadata": {},
   "outputs": [],
   "source": []
  }
 ],
 "metadata": {
  "kernelspec": {
   "display_name": "spark_env_3_11",
   "language": "python",
   "name": "python3"
  },
  "language_info": {
   "codemirror_mode": {
    "name": "ipython",
    "version": 3
   },
   "file_extension": ".py",
   "mimetype": "text/x-python",
   "name": "python",
   "nbconvert_exporter": "python",
   "pygments_lexer": "ipython3",
   "version": "3.11.6"
  }
 },
 "nbformat": 4,
 "nbformat_minor": 2
}
