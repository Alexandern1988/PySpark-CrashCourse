{
 "cells": [
  {
   "cell_type": "code",
   "execution_count": 1,
   "metadata": {},
   "outputs": [],
   "source": [
    "import findspark\n",
    "findspark.init()\n",
    "findspark.find()\n",
    "\n",
    "from pyspark.sql import SparkSession\n",
    "import pyspark.sql.functions as f\n",
    "import pyspark.sql.window as w\n",
    "import pyspark.sql.types as t"
   ]
  },
  {
   "cell_type": "code",
   "execution_count": 2,
   "metadata": {},
   "outputs": [],
   "source": [
    "spark = SparkSession.builder.appName('mycourse').getOrCreate()"
   ]
  },
  {
   "cell_type": "code",
   "execution_count": 3,
   "metadata": {},
   "outputs": [
    {
     "name": "stdout",
     "output_type": "stream",
     "text": [
      "+-------------------+-------------+--------------------+-------+-------+---------------+-------------+--------+--------+-----------+--------------------+--------+\n",
      "|          date_time|       userid|              domain|dlbytes|ulbytes|       clientip|     serverip| country|txn_time|http_method|          user_agent|platform|\n",
      "+-------------------+-------------+--------------------+-------+-------+---------------+-------------+--------+--------+-----------+--------------------+--------+\n",
      "|2023-10-04 11:37:11|7773153683656|    ryan-wells.co.uk| 872807| 741526|142.132.219.110|62.42.184.180| England|    2.33|      HTTPS|Mozilla/5.0 (Wind...| Android|\n",
      "|2023-10-04 12:17:07|1886351675683|         hopkins.org|  50898| 529504|  184.205.48.78|152.123.41.39|   Wales|     1.2|       HTTP|Mozilla/5.0 (Wind...| Android|\n",
      "|2023-10-02 23:25:12|1597721345356|           evans.com| 964276| 952420|  189.30.60.163|68.171.236.18|Scotland|    1.32|       HTTP|Mozilla/5.0 (Wind...|   Linux|\n",
      "|2023-10-03 09:43:11|9766845800247|           kelly.com| 212529| 811887|   13.144.79.35|63.141.80.109| England|    2.58|      HTTPS|Opera/8.54.(X11; ...| Android|\n",
      "|2023-10-01 08:16:46|1546762097287|richardson-walker...| 553626| 901428| 143.74.163.248|26.253.17.223|   Wales|    1.53|       HTTP|Mozilla/5.0 (Maci...| Windows|\n",
      "+-------------------+-------------+--------------------+-------+-------+---------------+-------------+--------+--------+-----------+--------------------+--------+\n",
      "only showing top 5 rows\n",
      "\n"
     ]
    }
   ],
   "source": [
    "#define a custom schema\n",
    "custome_schema = t.StructType([\n",
    "    t.StructField('date_time',   t.StringType(), True),\n",
    "    t.StructField('userid',      t.StringType(), True),\n",
    "    t.StructField('domain',      t.StringType(), True),\n",
    "    t.StructField('dlbytes',     t.IntegerType(), True),\n",
    "    t.StructField('ulbytes',     t.IntegerType(), True),\n",
    "    t.StructField('clientip',    t.StringType(), True),\n",
    "    t.StructField('serverip',    t.StringType(), True),\n",
    "    t.StructField('country',     t.StringType(), True),\n",
    "    t.StructField('txn_time',    t.FloatType(), True),\n",
    "    t.StructField('http_method', t.StringType(), True),\n",
    "    t.StructField('user_agent',  t.StringType(), True),\n",
    "    t.StructField('platform',    t.StringType(), True)\n",
    "])\n",
    "\n",
    "# load the data with the custom schema\n",
    "data_path = r'C:\\Users\\alex\\Desktop\\PySpark Crash Course Learn Spark Quickly\\1 - Introduction\\2 - course-file\\course_file.csv'\n",
    "df = spark.read.csv(data_path, schema=custome_schema, header=True)\n",
    "\n",
    "# show the loaded Datafarme\n",
    "df.show(5)"
   ]
  },
  {
   "cell_type": "code",
   "execution_count": 4,
   "metadata": {},
   "outputs": [
    {
     "name": "stdout",
     "output_type": "stream",
     "text": [
      "+-------------------+\n",
      "|          date_time|\n",
      "+-------------------+\n",
      "|2023-10-04 11:37:11|\n",
      "|2023-10-04 12:17:07|\n",
      "|2023-10-02 23:25:12|\n",
      "|2023-10-03 09:43:11|\n",
      "|2023-10-01 08:16:46|\n",
      "+-------------------+\n",
      "only showing top 5 rows\n",
      "\n"
     ]
    }
   ],
   "source": [
    "df2 = df.select('date_time')\n",
    "df2.show(5)"
   ]
  },
  {
   "cell_type": "code",
   "execution_count": 5,
   "metadata": {},
   "outputs": [
    {
     "name": "stdout",
     "output_type": "stream",
     "text": [
      "+-------------------+----+\n",
      "|          date_time|year|\n",
      "+-------------------+----+\n",
      "|2023-10-04 11:37:11|2023|\n",
      "|2023-10-04 12:17:07|2023|\n",
      "|2023-10-02 23:25:12|2023|\n",
      "|2023-10-03 09:43:11|2023|\n",
      "|2023-10-01 08:16:46|2023|\n",
      "+-------------------+----+\n",
      "only showing top 5 rows\n",
      "\n"
     ]
    }
   ],
   "source": [
    "df2.withColumn('year', f.year(df2['date_time'])).show(5)"
   ]
  },
  {
   "cell_type": "code",
   "execution_count": 7,
   "metadata": {},
   "outputs": [
    {
     "name": "stdout",
     "output_type": "stream",
     "text": [
      "+-------------------+----+-----+---+----------+\n",
      "|          date_time|year|month|day|  new_date|\n",
      "+-------------------+----+-----+---+----------+\n",
      "|2023-10-04 11:37:11|2023|   10|  4|2023-10-04|\n",
      "|2023-10-04 12:17:07|2023|   10|  4|2023-10-04|\n",
      "|2023-10-02 23:25:12|2023|   10|  2|2023-10-02|\n",
      "|2023-10-03 09:43:11|2023|   10|  3|2023-10-03|\n",
      "|2023-10-01 08:16:46|2023|   10|  1|2023-10-01|\n",
      "+-------------------+----+-----+---+----------+\n",
      "only showing top 5 rows\n",
      "\n"
     ]
    }
   ],
   "source": [
    "df2.withColumn('year', f.year(df2['date_time']))\\\n",
    "    .withColumn('month', f.month(df2['date_time']))\\\n",
    "    .withColumn('day', f.day(f.col('date_time')))\\\n",
    "    .withColumn('new_date', f.date_format(f.col('date_time'), 'yyyy-MM-dd')).show(5)"
   ]
  },
  {
   "cell_type": "code",
   "execution_count": 8,
   "metadata": {},
   "outputs": [
    {
     "name": "stdout",
     "output_type": "stream",
     "text": [
      "+-------------------+-----------+----------+\n",
      "|          date_time|day_of_week|is_weekend|\n",
      "+-------------------+-----------+----------+\n",
      "|2023-10-04 11:37:11|          4|   weekday|\n",
      "|2023-10-04 12:17:07|          4|   weekday|\n",
      "|2023-10-02 23:25:12|          2|   weekday|\n",
      "|2023-10-03 09:43:11|          3|   weekday|\n",
      "|2023-10-01 08:16:46|          1|   weekday|\n",
      "|2023-10-01 13:49:39|          1|   weekday|\n",
      "|2023-10-02 02:22:30|          2|   weekday|\n",
      "|2023-10-03 11:48:19|          3|   weekday|\n",
      "|2023-10-02 12:45:41|          2|   weekday|\n",
      "|2023-10-03 08:59:16|          3|   weekday|\n",
      "|2023-10-05 21:36:53|          5|   weekday|\n",
      "|2023-10-02 03:26:59|          2|   weekday|\n",
      "|2023-10-04 03:09:58|          4|   weekday|\n",
      "|2023-10-02 10:16:25|          2|   weekday|\n",
      "|2023-10-05 02:22:40|          5|   weekday|\n",
      "|2023-10-01 18:12:17|          1|   weekday|\n",
      "|2023-10-01 20:09:39|          1|   weekday|\n",
      "|2023-10-03 04:45:13|          3|   weekday|\n",
      "|2023-10-05 18:48:05|          5|   weekday|\n",
      "|2023-10-02 13:47:58|          2|   weekday|\n",
      "+-------------------+-----------+----------+\n",
      "only showing top 20 rows\n",
      "\n"
     ]
    }
   ],
   "source": [
    "df2.withColumn('day_of_week', f.dayofweek(df2['date_time']))\\\n",
    "    .withColumn(\n",
    "        'is_weekend',\n",
    "        f.when(f.dayofweek(df2['date_time']).isin([6,7]), 'weekend').otherwise('weekday')\n",
    "    ).show()"
   ]
  },
  {
   "cell_type": "code",
   "execution_count": null,
   "metadata": {},
   "outputs": [],
   "source": []
  }
 ],
 "metadata": {
  "kernelspec": {
   "display_name": "spark_env_3_11",
   "language": "python",
   "name": "python3"
  },
  "language_info": {
   "codemirror_mode": {
    "name": "ipython",
    "version": 3
   },
   "file_extension": ".py",
   "mimetype": "text/x-python",
   "name": "python",
   "nbconvert_exporter": "python",
   "pygments_lexer": "ipython3",
   "version": "3.11.6"
  }
 },
 "nbformat": 4,
 "nbformat_minor": 2
}
